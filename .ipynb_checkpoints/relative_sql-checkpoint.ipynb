{
 "cells": [
  {
   "cell_type": "code",
   "execution_count": 1,
   "id": "geographic-magnet",
   "metadata": {},
   "outputs": [],
   "source": [
    "import pandas as pd\n",
    "import sqlite3"
   ]
  },
  {
   "cell_type": "code",
   "execution_count": 29,
   "id": "integral-investment",
   "metadata": {},
   "outputs": [],
   "source": [
    "df = pd.read_excel('lista plac payroll.xlsx')"
   ]
  },
  {
   "cell_type": "code",
   "execution_count": 30,
   "id": "textile-bookmark",
   "metadata": {},
   "outputs": [
    {
     "data": {
      "text/html": [
       "<div>\n",
       "<style scoped>\n",
       "    .dataframe tbody tr th:only-of-type {\n",
       "        vertical-align: middle;\n",
       "    }\n",
       "\n",
       "    .dataframe tbody tr th {\n",
       "        vertical-align: top;\n",
       "    }\n",
       "\n",
       "    .dataframe thead th {\n",
       "        text-align: right;\n",
       "    }\n",
       "</style>\n",
       "<table border=\"1\" class=\"dataframe\">\n",
       "  <thead>\n",
       "    <tr style=\"text-align: right;\">\n",
       "      <th></th>\n",
       "      <th>Nazwisko_imię</th>\n",
       "      <th>wynagrodzenie_netto</th>\n",
       "      <th>podatek</th>\n",
       "      <th>ubezpieczenie</th>\n",
       "      <th>wynagrodzenie_brutto</th>\n",
       "      <th>stanowisko</th>\n",
       "      <th>dzial</th>\n",
       "    </tr>\n",
       "  </thead>\n",
       "  <tbody>\n",
       "    <tr>\n",
       "      <th>0</th>\n",
       "      <td>Bochenek Elżbieta</td>\n",
       "      <td>1752.41</td>\n",
       "      <td>0.19</td>\n",
       "      <td>0.12</td>\n",
       "      <td>2295.66</td>\n",
       "      <td>szwaczka</td>\n",
       "      <td>produkcja</td>\n",
       "    </tr>\n",
       "    <tr>\n",
       "      <th>1</th>\n",
       "      <td>Czarnecka Mirosława</td>\n",
       "      <td>1455.00</td>\n",
       "      <td>0.19</td>\n",
       "      <td>0.12</td>\n",
       "      <td>1906.05</td>\n",
       "      <td>szwaczka</td>\n",
       "      <td>produkcja</td>\n",
       "    </tr>\n",
       "    <tr>\n",
       "      <th>2</th>\n",
       "      <td>Gozdan Hanna</td>\n",
       "      <td>1752.41</td>\n",
       "      <td>0.19</td>\n",
       "      <td>0.12</td>\n",
       "      <td>2295.66</td>\n",
       "      <td>sekretarka</td>\n",
       "      <td>biuro</td>\n",
       "    </tr>\n",
       "  </tbody>\n",
       "</table>\n",
       "</div>"
      ],
      "text/plain": [
       "         Nazwisko_imię  wynagrodzenie_netto  podatek  ubezpieczenie  \\\n",
       "0    Bochenek Elżbieta              1752.41     0.19           0.12   \n",
       "1  Czarnecka Mirosława              1455.00     0.19           0.12   \n",
       "2         Gozdan Hanna              1752.41     0.19           0.12   \n",
       "\n",
       "   wynagrodzenie_brutto  stanowisko      dzial  \n",
       "0               2295.66    szwaczka  produkcja  \n",
       "1               1906.05    szwaczka  produkcja  \n",
       "2               2295.66  sekretarka      biuro  "
      ]
     },
     "execution_count": 30,
     "metadata": {},
     "output_type": "execute_result"
    }
   ],
   "source": [
    "df.head(3)"
   ]
  },
  {
   "cell_type": "code",
   "execution_count": 34,
   "id": "equipped-albert",
   "metadata": {},
   "outputs": [
    {
     "data": {
      "text/html": [
       "<div>\n",
       "<style scoped>\n",
       "    .dataframe tbody tr th:only-of-type {\n",
       "        vertical-align: middle;\n",
       "    }\n",
       "\n",
       "    .dataframe tbody tr th {\n",
       "        vertical-align: top;\n",
       "    }\n",
       "\n",
       "    .dataframe thead th {\n",
       "        text-align: right;\n",
       "    }\n",
       "</style>\n",
       "<table border=\"1\" class=\"dataframe\">\n",
       "  <thead>\n",
       "    <tr style=\"text-align: right;\">\n",
       "      <th></th>\n",
       "      <th>wynagrodzenie_netto</th>\n",
       "      <th>podatek</th>\n",
       "      <th>ubezpieczenie</th>\n",
       "      <th>wynagrodzenie_brutto</th>\n",
       "    </tr>\n",
       "    <tr>\n",
       "      <th>dzial</th>\n",
       "      <th></th>\n",
       "      <th></th>\n",
       "      <th></th>\n",
       "      <th></th>\n",
       "    </tr>\n",
       "  </thead>\n",
       "  <tbody>\n",
       "    <tr>\n",
       "      <th>biuro</th>\n",
       "      <td>2434.715000</td>\n",
       "      <td>0.19</td>\n",
       "      <td>0.12</td>\n",
       "      <td>3189.477500</td>\n",
       "    </tr>\n",
       "    <tr>\n",
       "      <th>produkcja</th>\n",
       "      <td>1735.536316</td>\n",
       "      <td>0.19</td>\n",
       "      <td>0.12</td>\n",
       "      <td>2273.553684</td>\n",
       "    </tr>\n",
       "    <tr>\n",
       "      <th>warsztat</th>\n",
       "      <td>1591.110000</td>\n",
       "      <td>0.19</td>\n",
       "      <td>0.12</td>\n",
       "      <td>2084.355000</td>\n",
       "    </tr>\n",
       "  </tbody>\n",
       "</table>\n",
       "</div>"
      ],
      "text/plain": [
       "           wynagrodzenie_netto  podatek  ubezpieczenie  wynagrodzenie_brutto\n",
       "dzial                                                                       \n",
       "biuro              2434.715000     0.19           0.12           3189.477500\n",
       "produkcja          1735.536316     0.19           0.12           2273.553684\n",
       "warsztat           1591.110000     0.19           0.12           2084.355000"
      ]
     },
     "execution_count": 34,
     "metadata": {},
     "output_type": "execute_result"
    }
   ],
   "source": [
    "df.groupby('dzial').mean()"
   ]
  },
  {
   "cell_type": "code",
   "execution_count": 32,
   "id": "trying-pakistan",
   "metadata": {},
   "outputs": [],
   "source": [
    "con = sqlite3.connect('data/wyniki.db')\n",
    "cur = con.cursor()\n",
    "df.to_sql('place', con, if_exists='replace')\n",
    "con.close()"
   ]
  },
  {
   "cell_type": "code",
   "execution_count": 36,
   "id": "independent-warrior",
   "metadata": {},
   "outputs": [
    {
     "data": {
      "text/html": [
       "<div>\n",
       "<style scoped>\n",
       "    .dataframe tbody tr th:only-of-type {\n",
       "        vertical-align: middle;\n",
       "    }\n",
       "\n",
       "    .dataframe tbody tr th {\n",
       "        vertical-align: top;\n",
       "    }\n",
       "\n",
       "    .dataframe thead th {\n",
       "        text-align: right;\n",
       "    }\n",
       "</style>\n",
       "<table border=\"1\" class=\"dataframe\">\n",
       "  <thead>\n",
       "    <tr style=\"text-align: right;\">\n",
       "      <th></th>\n",
       "      <th>dzial</th>\n",
       "      <th>brutto</th>\n",
       "    </tr>\n",
       "  </thead>\n",
       "  <tbody>\n",
       "    <tr>\n",
       "      <th>0</th>\n",
       "      <td>biuro</td>\n",
       "      <td>3189.477500</td>\n",
       "    </tr>\n",
       "    <tr>\n",
       "      <th>1</th>\n",
       "      <td>produkcja</td>\n",
       "      <td>2273.553684</td>\n",
       "    </tr>\n",
       "    <tr>\n",
       "      <th>2</th>\n",
       "      <td>warsztat</td>\n",
       "      <td>2084.355000</td>\n",
       "    </tr>\n",
       "  </tbody>\n",
       "</table>\n",
       "</div>"
      ],
      "text/plain": [
       "       dzial       brutto\n",
       "0      biuro  3189.477500\n",
       "1  produkcja  2273.553684\n",
       "2   warsztat  2084.355000"
      ]
     },
     "execution_count": 36,
     "metadata": {},
     "output_type": "execute_result"
    }
   ],
   "source": [
    "con = sqlite3.connect('data/wyniki.db')\n",
    "dd = pd.read_sql_query(\"SELECT dzial, avg(wynagrodzenie_brutto) AS brutto from place GROUP BY dzial\", con)\n",
    "con.close()\n",
    "dd"
   ]
  },
  {
   "cell_type": "code",
   "execution_count": null,
   "id": "aquatic-netherlands",
   "metadata": {},
   "outputs": [],
   "source": []
  }
 ],
 "metadata": {
  "kernelspec": {
   "display_name": "Python 3",
   "language": "python",
   "name": "python3"
  },
  "language_info": {
   "codemirror_mode": {
    "name": "ipython",
    "version": 3
   },
   "file_extension": ".py",
   "mimetype": "text/x-python",
   "name": "python",
   "nbconvert_exporter": "python",
   "pygments_lexer": "ipython3",
   "version": "3.7.9"
  }
 },
 "nbformat": 4,
 "nbformat_minor": 5
}
